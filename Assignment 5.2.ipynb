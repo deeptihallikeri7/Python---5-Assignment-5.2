{
 "cells": [
  {
   "cell_type": "code",
   "execution_count": 5,
   "metadata": {},
   "outputs": [
    {
     "name": "stdout",
     "output_type": "stream",
     "text": [
      "Americans Play Baseball.\n",
      "Americans Play Cricket.\n",
      "Americans watch Baseball.\n",
      "Americans watch Cricket.\n",
      "Indians Play Baseball.\n",
      "Indians Play Cricket.\n",
      "Indians watch Baseball.\n",
      "Indians watch Cricket.\n"
     ]
    }
   ],
   "source": [
    "subject = [\"Americans\", \"Indians\"]\n",
    "verb = [\"Play\", \"watch\"]\n",
    "object = [\"Baseball\",\"Cricket\"]\n",
    "print(subject[0]+\" \"+verb[0]+ \" \"+object[0]+\".\")\n",
    "print(subject[0]+\" \"+verb[0]+ \" \"+object[1]+\".\")\n",
    "print(subject[0]+\" \"+verb[1]+ \" \"+object[0]+\".\")\n",
    "print(subject[0]+\" \"+verb[1]+ \" \"+object[1]+\".\")\n",
    "print(subject[1]+\" \"+verb[0]+ \" \"+object[0]+\".\")\n",
    "print(subject[1]+\" \"+verb[0]+ \" \"+object[1]+\".\")\n",
    "print(subject[1]+\" \"+verb[1]+ \" \"+object[0]+\".\")\n",
    "print(subject[1]+\" \"+verb[1]+ \" \"+object[1]+\".\")"
   ]
  },
  {
   "cell_type": "code",
   "execution_count": null,
   "metadata": {},
   "outputs": [],
   "source": []
  }
 ],
 "metadata": {
  "kernelspec": {
   "display_name": "Python 3",
   "language": "python",
   "name": "python3"
  },
  "language_info": {
   "codemirror_mode": {
    "name": "ipython",
    "version": 3
   },
   "file_extension": ".py",
   "mimetype": "text/x-python",
   "name": "python",
   "nbconvert_exporter": "python",
   "pygments_lexer": "ipython3",
   "version": "3.6.4"
  }
 },
 "nbformat": 4,
 "nbformat_minor": 2
}
